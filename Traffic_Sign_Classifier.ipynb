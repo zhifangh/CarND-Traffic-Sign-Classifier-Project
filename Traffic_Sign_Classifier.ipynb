{
 "cells": [
  {
   "cell_type": "markdown",
   "metadata": {},
   "source": [
    "# Self-Driving Car Engineer Nanodegree\n",
    "\n",
    "## Deep Learning\n",
    "\n",
    "## Project: Build a Traffic Sign Recognition Classifier\n",
    "\n",
    "In this notebook, a template is provided for you to implement your functionality in stages, which is required to successfully complete this project. If additional code is required that cannot be included in the notebook, be sure that the Python code is successfully imported and included in your submission if necessary. \n",
    "\n",
    "> **Note**: Once you have completed all of the code implementations, you need to finalize your work by exporting the iPython Notebook as an HTML document. Before exporting the notebook to html, all of the code cells need to have been run so that reviewers can see the final implementation and output. You can then export the notebook by using the menu above and navigating to  \\n\",\n",
    "    \"**File -> Download as -> HTML (.html)**. Include the finished document along with this notebook as your submission. \n",
    "\n",
    "In addition to implementing code, there is a writeup to complete. The writeup should be completed in a separate file, which can be either a markdown file or a pdf document. There is a [write up template](https://github.com/udacity/CarND-Traffic-Sign-Classifier-Project/blob/master/writeup_template.md) that can be used to guide the writing process. Completing the code template and writeup template will cover all of the [rubric points](https://review.udacity.com/#!/rubrics/481/view) for this project.\n",
    "\n",
    "The [rubric](https://review.udacity.com/#!/rubrics/481/view) contains \"Stand Out Suggestions\" for enhancing the project beyond the minimum requirements. The stand out suggestions are optional. If you decide to pursue the \"stand out suggestions\", you can include the code in this Ipython notebook and also discuss the results in the writeup file.\n",
    "\n",
    "\n",
    ">**Note:** Code and Markdown cells can be executed using the **Shift + Enter** keyboard shortcut. In addition, Markdown cells can be edited by typically double-clicking the cell to enter edit mode."
   ]
  },
  {
   "cell_type": "markdown",
   "metadata": {},
   "source": [
    "---\n",
    "## Step 0: Load The Data"
   ]
  },
  {
   "cell_type": "code",
   "execution_count": 1,
   "metadata": {},
   "outputs": [
    {
     "name": "stdout",
     "output_type": "stream",
     "text": [
      "\n",
      "Image Shape: (32, 32, 3)\n",
      "\n",
      "Training Set:   34799 samples\n",
      "Validation Set: 4410 samples\n",
      "Test Set:       12630 samples\n"
     ]
    }
   ],
   "source": [
    "# Load pickled data\n",
    "import pickle\n",
    "\n",
    "# TODO: Fill this in based on where you saved the training and testing data\n",
    "\n",
    "training_file    =  './/data//traffic-signs-data//train.p'\n",
    "validation_file  =  './/data//traffic-signs-data//valid.p'\n",
    "testing_file     =  './/data//traffic-signs-data//test.p'\n",
    "\n",
    "\n",
    "with open(training_file, mode='rb') as f:\n",
    "    train = pickle.load(f)\n",
    "with open(validation_file, mode='rb') as f:\n",
    "    valid = pickle.load(f)\n",
    "with open(testing_file, mode='rb') as f:\n",
    "    test = pickle.load(f)\n",
    "    \n",
    "X_train, y_train = train['features'], train['labels']\n",
    "X_valid, y_valid = valid['features'], valid['labels']\n",
    "X_test, y_test = test['features'], test['labels']\n",
    "\n",
    "assert(len(X_train) == len(y_train))\n",
    "assert(len(X_valid) == len(y_valid))\n",
    "assert(len(X_test) == len(y_test))\n",
    "\n",
    "print()\n",
    "print(\"Image Shape: {}\".format(X_train[0].shape))\n",
    "print()\n",
    "print(\"Training Set:   {} samples\".format(len(X_train)))\n",
    "print(\"Validation Set: {} samples\".format(len(X_valid)))\n",
    "print(\"Test Set:       {} samples\".format(len(X_test)))"
   ]
  },
  {
   "cell_type": "markdown",
   "metadata": {},
   "source": [
    "---\n",
    "\n",
    "## Step 1: Dataset Summary & Exploration\n",
    "\n",
    "The pickled data is a dictionary with 4 key/value pairs:\n",
    "\n",
    "- `'features'` is a 4D array containing raw pixel data of the traffic sign images, (num examples, width, height, channels).\n",
    "- `'labels'` is a 1D array containing the label/class id of the traffic sign. The file `signnames.csv` contains id -> name mappings for each id.\n",
    "- `'sizes'` is a list containing tuples, (width, height) representing the original width and height the image.\n",
    "- `'coords'` is a list containing tuples, (x1, y1, x2, y2) representing coordinates of a bounding box around the sign in the image. **THESE COORDINATES ASSUME THE ORIGINAL IMAGE. THE PICKLED DATA CONTAINS RESIZED VERSIONS (32 by 32) OF THESE IMAGES**\n",
    "\n",
    "Complete the basic data summary below. Use python, numpy and/or pandas methods to calculate the data summary rather than hard coding the results. For example, the [pandas shape method](http://pandas.pydata.org/pandas-docs/stable/generated/pandas.DataFrame.shape.html) might be useful for calculating some of the summary results. "
   ]
  },
  {
   "cell_type": "markdown",
   "metadata": {},
   "source": [
    "### Provide a Basic Summary of the Data Set Using Python, Numpy and/or Pandas"
   ]
  },
  {
   "cell_type": "code",
   "execution_count": 2,
   "metadata": {},
   "outputs": [
    {
     "name": "stdout",
     "output_type": "stream",
     "text": [
      "Number of training examples = 34799\n",
      "Number of testing examples = 12630\n",
      "Image data shape = (32, 32, 3)\n",
      "Number of classes = 43\n"
     ]
    }
   ],
   "source": [
    "### Replace each question mark with the appropriate value. \n",
    "### Use python, pandas or numpy methods rather than hard coding the results\n",
    "\n",
    "# TODO: Number of training examples\n",
    "n_train = len(X_train)\n",
    "\n",
    "# TODO: Number of validation examples\n",
    "n_validation = len(X_valid)\n",
    "\n",
    "# TODO: Number of testing examples.\n",
    "n_test = len(X_test)\n",
    "\n",
    "# TODO: What's the shape of an traffic sign image?\n",
    "image_shape = X_train[0].shape\n",
    "\n",
    "# TODO: How many unique classes/labels there are in the dataset.\n",
    "n_classes = len(set(y_train))\n",
    "\n",
    "print(\"Number of training examples =\", n_train)\n",
    "print(\"Number of testing examples =\", n_test)\n",
    "print(\"Image data shape =\", image_shape)\n",
    "print(\"Number of classes =\", n_classes)"
   ]
  },
  {
   "cell_type": "markdown",
   "metadata": {},
   "source": [
    "### Include an exploratory visualization of the dataset"
   ]
  },
  {
   "cell_type": "markdown",
   "metadata": {},
   "source": [
    "Visualize the German Traffic Signs Dataset using the pickled file(s). This is open ended, suggestions include: plotting traffic sign images, plotting the count of each sign, etc. \n",
    "\n",
    "The [Matplotlib](http://matplotlib.org/) [examples](http://matplotlib.org/examples/index.html) and [gallery](http://matplotlib.org/gallery.html) pages are a great resource for doing visualizations in Python.\n",
    "\n",
    "**NOTE:** It's recommended you start with something simple first. If you wish to do more, come back to it after you've completed the rest of the sections. It can be interesting to look at the distribution of classes in the training, validation and test set. Is the distribution the same? Are there more examples of some classes than others?"
   ]
  },
  {
   "cell_type": "code",
   "execution_count": 5,
   "metadata": {},
   "outputs": [
    {
     "name": "stdout",
     "output_type": "stream",
     "text": [
      "1\n"
     ]
    },
    {
     "data": {
      "text/plain": [
       "<function matplotlib.pyplot.show(close=None, block=None)>"
      ]
     },
     "execution_count": 5,
     "metadata": {},
     "output_type": "execute_result"
    },
    {
     "data": {
      "image/png": "[encoded data removed]",
      "text/plain": [
       "<Figure size 432x288 with 1 Axes>"
      ]
     },
     "metadata": {
      "needs_background": "light"
     },
     "output_type": "display_data"
    },
    {
     "data": {
      "image/png": "[encoded data removed]",
      "text/plain": [
       "<Figure size 648x360 with 1 Axes>"
      ]
     },
     "metadata": {
      "needs_background": "light"
     },
     "output_type": "display_data"
    },
    {
     "data": {
      "image/png": "[encoded data removed]",
      "text/plain": [
       "<Figure size 648x360 with 1 Axes>"
      ]
     },
     "metadata": {
      "needs_background": "light"
     },
     "output_type": "display_data"
    },
    {
     "data": {
      "image/png": "[encoded data removed]",
      "text/plain": [
       "<Figure size 648x360 with 1 Axes>"
      ]
     },
     "metadata": {
      "needs_background": "light"
     },
     "output_type": "display_data"
    }
   ],
   "source": [
    "### Data exploration visualization code goes here.\n",
    "### Feel free to use as many code cells as needed.\n",
    "import random\n",
    "from collections import Counter\n",
    "import numpy as np\n",
    "import matplotlib.pyplot as plt\n",
    "# Visualizations will be shown in the notebook.\n",
    "%matplotlib inline\n",
    "\n",
    "index = random.randint(0, len(X_train))\n",
    "image = X_train[index].squeeze()\n",
    "\n",
    "# plt.figure(figsize=(1,1))\n",
    "plt.imshow(image, cmap=\"gray\")\n",
    "print(y_train[index])\n",
    "\n",
    "sign_count_test = Counter(y_train)\n",
    " \n",
    "range_x = np.array(range(n_classes))\n",
    "range_y = [sign_count_test[i] for i in range_x]\n",
    "plt.figure(figsize=(9,5))\n",
    "plt.bar(range_x,range_y)\n",
    "plt.xticks(list(range(n_classes)))\n",
    "plt.xlabel(\"class\")\n",
    "plt.ylabel(\"numbers\")\n",
    "plt.title(\"the train data distribution\")\n",
    "plt.show\n",
    " \n",
    "sign_count_valid = Counter(y_valid)\n",
    " \n",
    "range_x = np.array(range(n_classes))\n",
    "range_y = [sign_count_valid[i] for i in range_x]\n",
    "plt.figure(figsize=(9,5))\n",
    "plt.bar(range_x,range_y)\n",
    "plt.xticks(list(range(n_classes)))\n",
    "plt.xlabel(\"class\")\n",
    "plt.ylabel(\"numbers\")\n",
    "plt.title(\"the valid data distribution\")\n",
    "plt.show\n",
    " \n",
    "sign_count_test = Counter(y_test)\n",
    " \n",
    "range_x = np.array(range(n_classes))\n",
    "range_y = [sign_count_test[i] for i in range_x]\n",
    "plt.figure(figsize=(9,5))\n",
    "plt.bar(range_x,range_y)\n",
    "plt.xticks(list(range(n_classes)))\n",
    "plt.xlabel(\"class\")\n",
    "plt.ylabel(\"numbers\")\n",
    "plt.title(\"the test data distribution\")\n",
    "plt.show\n"
   ]
  },
  {
   "cell_type": "code",
   "execution_count": 6,
   "metadata": {},
   "outputs": [],
   "source": [
    "import pandas as pd\n",
    "import numpy as np\n",
    "\n",
    "signnames = pd.read_csv('./signnames.csv')\n",
    "signnames.set_index('ClassId',inplace=True)\n",
    "\n",
    "def get_name_from_label(label):\n",
    "    # Helper, transofrm a numeric label into the corresponding strring\n",
    "    return signnames.loc[label].SignName"
   ]
  },
  {
   "cell_type": "markdown",
   "metadata": {},
   "source": [
    "----\n",
    "\n",
    "## Step 2: Design and Test a Model Architecture\n",
    "\n",
    "Design and implement a deep learning model that learns to recognize traffic signs. Train and test your model on the [German Traffic Sign Dataset](http://benchmark.ini.rub.de/?section=gtsrb&subsection=dataset).\n",
    "\n",
    "The LeNet-5 implementation shown in the [classroom](https://classroom.udacity.com/nanodegrees/nd013/parts/fbf77062-5703-404e-b60c-95b78b2f3f9e/modules/6df7ae49-c61c-4bb2-a23e-6527e69209ec/lessons/601ae704-1035-4287-8b11-e2c2716217ad/concepts/d4aca031-508f-4e0b-b493-e7b706120f81) at the end of the CNN lesson is a solid starting point. You'll have to change the number of classes and possibly the preprocessing, but aside from that it's plug and play! \n",
    "\n",
    "With the LeNet-5 solution from the lecture, you should expect a validation set accuracy of about 0.89. To meet specifications, the validation set accuracy will need to be at least 0.93. It is possible to get an even higher accuracy, but 0.93 is the minimum for a successful project submission. \n",
    "\n",
    "There are various aspects to consider when thinking about this problem:\n",
    "\n",
    "- Neural network architecture (is the network over or underfitting?)\n",
    "- Play around preprocessing techniques (normalization, rgb to grayscale, etc)\n",
    "- Number of examples per label (some have more than others).\n",
    "- Generate fake data.\n",
    "\n",
    "Here is an example of a [published baseline model on this problem](http://yann.lecun.com/exdb/publis/pdf/sermanet-ijcnn-11.pdf). It's not required to be familiar with the approach used in the paper but, it's good practice to try to read papers like these."
   ]
  },
  {
   "cell_type": "markdown",
   "metadata": {},
   "source": [
    "### Pre-process the Data Set (normalization, grayscale, etc.)"
   ]
  },
  {
   "cell_type": "markdown",
   "metadata": {},
   "source": [
    "Minimally, the image data should be normalized so that the data has mean zero and equal variance. For image data, `(pixel - 128)/ 128` is a quick way to approximately normalize the data and can be used in this project. \n",
    "\n",
    "Other pre-processing steps are optional. You can try different techniques to see if it improves performance. \n",
    "\n",
    "Use the code cell (or multiple code cells, if necessary) to implement the first step of your project."
   ]
  },
  {
   "cell_type": "code",
   "execution_count": 7,
   "metadata": {},
   "outputs": [],
   "source": [
    "### Preprocess the data here. It is required to normalize the data. Other preprocessing steps could include \n",
    "### converting to grayscale, etc.\n",
    "### Feel free to use as many code cells as needed.\n",
    "import cv2\n",
    "\n",
    "def normalized(images):\n",
    "    xmin = np.min(images)\n",
    "    xmax = np.max(images)\n",
    "    image = (images - xmin)/(xmax-xmin)\n",
    "    return image\n",
    " \n",
    "def grayscale(image):\n",
    "    gray = cv2.cvtColor(image,cv2.COLOR_RGB2GRAY)\n",
    "    return np.expand_dims(gray,axis = 2)\n",
    " \n",
    "def preprocess(images):\n",
    "    list1 = []\n",
    "    for image in images:\n",
    "        list1.append(grayscale(image))\n",
    "    list1 = np.array(list1)\n",
    "    return normalized(list1)\n",
    " \n",
    "def one_hot(images):\n",
    "    list1 = np.zeros((len(images),n_classes))\n",
    "    for i,label in enumerate(images):\n",
    "        list1[i][label] = 1\n",
    "    return list1\n"
   ]
  },
  {
   "cell_type": "code",
   "execution_count": 8,
   "metadata": {},
   "outputs": [
    {
     "name": "stdout",
     "output_type": "stream",
     "text": [
      "[[[ 97]\n",
      "  [100]\n",
      "  [ 94]\n",
      "  ...\n",
      "  [ 45]\n",
      "  [ 33]\n",
      "  [ 32]]\n",
      "\n",
      " [[100]\n",
      "  [100]\n",
      "  [ 97]\n",
      "  ...\n",
      "  [ 51]\n",
      "  [ 35]\n",
      "  [ 33]]\n",
      "\n",
      " [[ 99]\n",
      "  [ 96]\n",
      "  [ 97]\n",
      "  ...\n",
      "  [ 52]\n",
      "  [ 38]\n",
      "  [ 35]]\n",
      "\n",
      " ...\n",
      "\n",
      " [[107]\n",
      "  [102]\n",
      "  [ 92]\n",
      "  ...\n",
      "  [ 74]\n",
      "  [ 71]\n",
      "  [ 64]]\n",
      "\n",
      " [[105]\n",
      "  [102]\n",
      "  [ 97]\n",
      "  ...\n",
      "  [ 77]\n",
      "  [ 75]\n",
      "  [ 63]]\n",
      "\n",
      " [[104]\n",
      "  [104]\n",
      "  [104]\n",
      "  ...\n",
      "  [ 81]\n",
      "  [ 78]\n",
      "  [ 63]]]\n"
     ]
    },
    {
     "data": {
      "image/png": "[encoded data removed]",
      "text/plain": [
       "<Figure size 432x288 with 1 Axes>"
      ]
     },
     "metadata": {
      "needs_background": "light"
     },
     "output_type": "display_data"
    }
   ],
   "source": [
    "image = grayscale(image)\n",
    "plt.imshow(image, cmap=\"gray\")\n",
    "print(image)"
   ]
  },
  {
   "cell_type": "code",
   "execution_count": 9,
   "metadata": {},
   "outputs": [
    {
     "name": "stdout",
     "output_type": "stream",
     "text": [
      "[[[0.30232558]\n",
      "  [0.31627907]\n",
      "  [0.28837209]\n",
      "  ...\n",
      "  [0.06046512]\n",
      "  [0.00465116]\n",
      "  [0.        ]]\n",
      "\n",
      " [[0.31627907]\n",
      "  [0.31627907]\n",
      "  [0.30232558]\n",
      "  ...\n",
      "  [0.08837209]\n",
      "  [0.01395349]\n",
      "  [0.00465116]]\n",
      "\n",
      " [[0.31162791]\n",
      "  [0.29767442]\n",
      "  [0.30232558]\n",
      "  ...\n",
      "  [0.09302326]\n",
      "  [0.02790698]\n",
      "  [0.01395349]]\n",
      "\n",
      " ...\n",
      "\n",
      " [[0.34883721]\n",
      "  [0.3255814 ]\n",
      "  [0.27906977]\n",
      "  ...\n",
      "  [0.19534884]\n",
      "  [0.18139535]\n",
      "  [0.14883721]]\n",
      "\n",
      " [[0.33953488]\n",
      "  [0.3255814 ]\n",
      "  [0.30232558]\n",
      "  ...\n",
      "  [0.20930233]\n",
      "  [0.2       ]\n",
      "  [0.14418605]]\n",
      "\n",
      " [[0.33488372]\n",
      "  [0.33488372]\n",
      "  [0.33488372]\n",
      "  ...\n",
      "  [0.22790698]\n",
      "  [0.21395349]\n",
      "  [0.14418605]]]\n"
     ]
    },
    {
     "data": {
      "image/png": "[encoded data removed]",
      "text/plain": [
       "<Figure size 432x288 with 1 Axes>"
      ]
     },
     "metadata": {
      "needs_background": "light"
     },
     "output_type": "display_data"
    }
   ],
   "source": [
    "image = normalized(image)\n",
    "plt.imshow(image, cmap=\"gray\")\n",
    "print(image)"
   ]
  },
  {
   "cell_type": "code",
   "execution_count": 10,
   "metadata": {},
   "outputs": [
    {
     "name": "stdout",
     "output_type": "stream",
     "text": [
      "WARNING:tensorflow:From C:\\ProgramData\\Anaconda3\\lib\\site-packages\\tensorflow\\python\\compat\\v2_compat.py:96: disable_resource_variables (from tensorflow.python.ops.variable_scope) is deprecated and will be removed in a future version.\n",
      "Instructions for updating:\n",
      "non-resource variables are not supported in the long term\n",
      "(34799, 32, 32, 1) (34799, 43)\n"
     ]
    }
   ],
   "source": [
    "# import tensorflow as tf\n",
    "import tensorflow.compat.v1 as tf\n",
    "tf.disable_v2_behavior()\n",
    "from sklearn.utils import shuffle\n",
    "\n",
    "X_train,y_train = shuffle(X_train,y_train)\n",
    "X_train = preprocess(X_train)\n",
    "y_train = one_hot(y_train)\n",
    "X_valid = preprocess(X_valid)\n",
    "y_valid = one_hot(y_valid)\n",
    "X_test = preprocess(X_test)\n",
    "y_test = one_hot(y_test)\n",
    "print(X_train.shape,y_train.shape)\n"
   ]
  },
  {
   "cell_type": "code",
   "execution_count": 11,
   "metadata": {},
   "outputs": [],
   "source": [
    "def flatten(incoming, name=None):\n",
    "    flat_shape = [-1, np.prod(incoming.shape[1:]).value]\n",
    "    return tf.reshape(incoming, flat_shape)"
   ]
  },
  {
   "cell_type": "markdown",
   "metadata": {},
   "source": [
    "### Model Architecture"
   ]
  },
  {
   "cell_type": "code",
   "execution_count": 12,
   "metadata": {},
   "outputs": [],
   "source": [
    "### Define your architecture here.\n",
    "### Feel free to use as many code cells as needed.\n",
    "# from tensorflow.contrib.layers import flatten\n",
    " \n",
    "def model(images, add_dropout = True):  \n",
    "    # Arguments used for tf.truncated_normal, randomly defines variables for the weights and biases for each layer\n",
    "    mu = 0\n",
    "    sigma = 0.1\n",
    "    dropout = 0.5\n",
    "    \n",
    "    # SOLUTION: Layer 1: Convolutional. Input = 32x32x1. Output = 28x28x6.\n",
    "    conv1_W = tf.Variable(tf.truncated_normal(shape=(5, 5, 1, 6), mean = mu, stddev = sigma))\n",
    "    conv1_b = tf.Variable(tf.zeros(6))\n",
    "    conv1   = tf.nn.conv2d(images, conv1_W, strides=[1, 1, 1, 1], padding = 'VALID') + conv1_b\n",
    "\n",
    "    # SOLUTION: Activation.\n",
    "    conv1 = tf.nn.relu(conv1)\n",
    "\n",
    "    # SOLUTION: Pooling. Input = 28x28x6. Output = 14x14x6.\n",
    "    conv1 = tf.nn.max_pool(conv1, ksize=[1, 2, 2, 1], strides=[1, 2, 2, 1], padding = 'VALID')\n",
    "\n",
    "    # SOLUTION: Layer 2: Convolutional. Output = 10x10x16.\n",
    "    conv2_W = tf.Variable(tf.truncated_normal(shape=(5, 5, 6, 16), mean = mu, stddev = sigma))\n",
    "    conv2_b = tf.Variable(tf.zeros(16))\n",
    "    conv2   = tf.nn.conv2d(conv1, conv2_W, strides=[1, 1, 1, 1], padding='VALID') + conv2_b\n",
    "    \n",
    "    # SOLUTION: Activation.\n",
    "    conv2 = tf.nn.relu(conv2)\n",
    "\n",
    "    # SOLUTION: Pooling. Input = 10x10x16. Output = 5x5x16.\n",
    "    conv2 = tf.nn.max_pool(conv2, ksize=[1, 2, 2, 1], strides=[1, 2, 2, 1], padding='VALID')\n",
    "\n",
    "    # SOLUTION: Flatten. Input = 5x5x16. Output = 400.\n",
    "    fc0   = flatten(conv2)\n",
    "#     fc0   = tf.layers.flatten(conv2)\n",
    "#     fc0   = tf.keras.layers.Flatten(conv2)\n",
    "    \n",
    "    # SOLUTION: Layer 3: Fully Connected. Input = 400. Output = 120.\n",
    "    fc1_W = tf.Variable(tf.truncated_normal(shape=(400, 120), mean = mu, stddev = sigma))\n",
    "    fc1_b = tf.Variable(tf.zeros(120))\n",
    "    fc1   = tf.matmul(fc0, fc1_W) + fc1_b\n",
    "    \n",
    "    # SOLUTION: Activation.\n",
    "    fc1    = tf.nn.relu(fc1)\n",
    "    \n",
    "    # SOLUTION: Dropout\n",
    "    if add_dropout:\n",
    "        fc1 = tf.nn.dropout(fc1,dropout)\n",
    "\n",
    "    # SOLUTION: Layer 4: Fully Connected. Input = 120. Output = 84.\n",
    "    fc2_W  = tf.Variable(tf.truncated_normal(shape=(120, 84), mean = mu, stddev = sigma))\n",
    "    fc2_b  = tf.Variable(tf.zeros(84))\n",
    "    fc2    = tf.matmul(fc1, fc2_W) + fc2_b\n",
    "    \n",
    "    # SOLUTION: Activation.\n",
    "    fc2    = tf.nn.relu(fc2)\n",
    "    \n",
    "    # SOLUTION: Dropout\n",
    "    if add_dropout:\n",
    "        fc2 = tf.nn.dropout(fc2,dropout)\n",
    "\n",
    "    # SOLUTION: Layer 5: Fully Connected. Input = 84. Output = 43.\n",
    "    fc3_W  = tf.Variable(tf.truncated_normal(shape=(84, 43), mean = mu, stddev = sigma))\n",
    "    fc3_b  = tf.Variable(tf.zeros(43))\n",
    "    logits = tf.matmul(fc2, fc3_W) + fc3_b\n",
    "    \n",
    "    return logits\n",
    "\n"
   ]
  },
  {
   "cell_type": "markdown",
   "metadata": {},
   "source": [
    "### Train, Validate and Test the Model"
   ]
  },
  {
   "cell_type": "markdown",
   "metadata": {},
   "source": [
    "A validation set can be used to assess how well the model is performing. A low accuracy on the training and validation\n",
    "sets imply underfitting. A high accuracy on the training set but low accuracy on the validation set implies overfitting."
   ]
  },
  {
   "cell_type": "code",
   "execution_count": 13,
   "metadata": {},
   "outputs": [
    {
     "name": "stdout",
     "output_type": "stream",
     "text": [
      "WARNING:tensorflow:From C:\\ProgramData\\Anaconda3\\lib\\site-packages\\tensorflow\\python\\util\\dispatch.py:206: calling dropout (from tensorflow.python.ops.nn_ops) with keep_prob is deprecated and will be removed in a future version.\n",
      "Instructions for updating:\n",
      "Please use `rate` instead of `keep_prob`. Rate should be set to `rate = 1 - keep_prob`.\n",
      "WARNING:tensorflow:From C:\\ProgramData\\Anaconda3\\lib\\site-packages\\tensorflow\\python\\util\\dispatch.py:206: softmax_cross_entropy_with_logits (from tensorflow.python.ops.nn_ops) is deprecated and will be removed in a future version.\n",
      "Instructions for updating:\n",
      "\n",
      "Future major versions of TensorFlow will allow gradients to flow\n",
      "into the labels input on backprop by default.\n",
      "\n",
      "See `tf.nn.softmax_cross_entropy_with_logits_v2`.\n",
      "\n"
     ]
    }
   ],
   "source": [
    "### Train your model here.\n",
    "### Calculate and report the accuracy on the training and validation set.\n",
    "### Once a final model architecture is selected, \n",
    "### the accuracy on the test set should be calculated and reported as well.\n",
    "### Feel free to use as many code cells as needed.\n",
    "\n",
    "# x = tf.placeholder(tf.float32, (None, 32, 32, 1))\n",
    "# y = tf.placeholder(tf.int32, (None))\n",
    "\n",
    "# inputs = tf.placeholder(tf.float32,shape = [None,32,32,1],name = 'inputs')\n",
    "# labels = tf.placeholder(tf.int32,shape = [None,n_classes],name = 'labels')\n",
    "\n",
    "x = tf.placeholder(tf.float32,shape = [None,32,32,1],name = 'inputs')\n",
    "y = tf.placeholder(tf.int32,shape = [None,n_classes],name = 'labels')\n",
    "# one_hot_y = tf.one_hot(y, n_classes)\n",
    "\n",
    "rate = 0.001\n",
    "\n",
    "logits = model(x)\n",
    "cross_entropy = tf.nn.softmax_cross_entropy_with_logits(labels = y, logits = logits)\n",
    "loss_operation = tf.reduce_mean(cross_entropy)\n",
    "optimizer = tf.train.AdamOptimizer(learning_rate = rate)\n",
    "training_operation = optimizer.minimize(loss_operation)\n",
    "\n",
    "predict_operation = tf.argmax(logits, 1)\n",
    "predict_proba_operation = tf.nn.softmax(logits=logits)\n"
   ]
  },
  {
   "cell_type": "code",
   "execution_count": 14,
   "metadata": {},
   "outputs": [],
   "source": [
    "# The EPOCH and BATCH_SIZE values affect the training speed and model accuracy.\n",
    "EPOCHS = 100\n",
    "BATCH_SIZE = 128\n",
    "\n",
    "def get_batches(X,y,batch_size=BATCH_SIZE):\n",
    "    length=len(X)\n",
    "    n_batches=length//batch_size+1\n",
    "    for i in range(n_batches):\n",
    "        yield X[batch_size*i:min(length,batch_size*(i+1))], y[batch_size*i:min(length,batch_size*(i+1))]\n"
   ]
  },
  {
   "cell_type": "code",
   "execution_count": 15,
   "metadata": {},
   "outputs": [],
   "source": [
    "# Model Evaluation\n",
    "# Evaluate how well the loss and accuracy of the model for a given dataset.\n",
    "\n",
    "correct_prediction = tf.equal(tf.argmax(logits, 1), tf.argmax(y, 1))\n",
    "accuracy_operation = tf.reduce_mean(tf.cast(correct_prediction, tf.float32))\n",
    "saver = tf.train.Saver()\n",
    "\n",
    "def evaluate(X_data, y_data):\n",
    "    num_examples = len(X_data)\n",
    "    total_accuracy = 0\n",
    "    sess = tf.get_default_session()\n",
    "    for offset in range(0, num_examples, BATCH_SIZE):\n",
    "        batch_x, batch_y = X_data[offset:offset+BATCH_SIZE], y_data[offset:offset+BATCH_SIZE]\n",
    "        accuracy = sess.run(accuracy_operation, feed_dict={x: batch_x, y: batch_y})\n",
    "        total_accuracy += (accuracy * len(batch_x))\n",
    "    return total_accuracy / num_examples\n",
    "\n",
    "def predict(X_data):\n",
    "    num_examples = len(X_data)\n",
    "    sess = tf.get_default_session()\n",
    "    predicted_proba = list()\n",
    "    for offset in range(0, num_examples, BATCH_SIZE):\n",
    "        batch_x = X_data[offset:offset+BATCH_SIZE]\n",
    "        predicted_proba.extend( sess.run(predict_proba_operation, feed_dict={x: batch_x}))\n",
    "              \n",
    "    return predicted_proba"
   ]
  },
  {
   "cell_type": "code",
   "execution_count": 20,
   "metadata": {},
   "outputs": [
    {
     "name": "stdout",
     "output_type": "stream",
     "text": [
      "Training...\n",
      "\n",
      "EPOCH 1 ...\n",
      "Validation Accuracy = 0.418\n",
      "\n",
      "EPOCH 2 ...\n",
      "Validation Accuracy = 0.592\n",
      "\n",
      "EPOCH 3 ...\n",
      "Validation Accuracy = 0.702\n",
      "\n",
      "EPOCH 4 ...\n",
      "Validation Accuracy = 0.739\n",
      "\n",
      "EPOCH 5 ...\n",
      "Validation Accuracy = 0.773\n",
      "\n",
      "EPOCH 6 ...\n",
      "Validation Accuracy = 0.773\n",
      "\n",
      "EPOCH 7 ...\n",
      "Validation Accuracy = 0.804\n",
      "\n",
      "EPOCH 8 ...\n",
      "Validation Accuracy = 0.820\n",
      "\n",
      "EPOCH 9 ...\n",
      "Validation Accuracy = 0.836\n",
      "\n",
      "EPOCH 10 ...\n",
      "Validation Accuracy = 0.841\n",
      "\n",
      "EPOCH 11 ...\n",
      "Validation Accuracy = 0.849\n",
      "\n",
      "EPOCH 12 ...\n",
      "Validation Accuracy = 0.855\n",
      "\n",
      "EPOCH 13 ...\n",
      "Validation Accuracy = 0.855\n",
      "\n",
      "EPOCH 14 ...\n",
      "Validation Accuracy = 0.862\n",
      "\n",
      "EPOCH 15 ...\n",
      "Validation Accuracy = 0.863\n",
      "\n",
      "EPOCH 16 ...\n",
      "Validation Accuracy = 0.868\n",
      "\n",
      "EPOCH 17 ...\n",
      "Validation Accuracy = 0.865\n",
      "\n",
      "EPOCH 18 ...\n",
      "Validation Accuracy = 0.868\n",
      "\n",
      "EPOCH 19 ...\n",
      "Validation Accuracy = 0.873\n",
      "\n",
      "EPOCH 20 ...\n",
      "Validation Accuracy = 0.887\n",
      "\n",
      "EPOCH 21 ...\n",
      "Validation Accuracy = 0.876\n",
      "\n",
      "EPOCH 22 ...\n",
      "Validation Accuracy = 0.878\n",
      "\n",
      "EPOCH 23 ...\n",
      "Validation Accuracy = 0.883\n",
      "\n",
      "EPOCH 24 ...\n",
      "Validation Accuracy = 0.882\n",
      "\n",
      "EPOCH 25 ...\n",
      "Validation Accuracy = 0.891\n",
      "\n",
      "EPOCH 26 ...\n",
      "Validation Accuracy = 0.888\n",
      "\n",
      "EPOCH 27 ...\n",
      "Validation Accuracy = 0.883\n",
      "\n",
      "EPOCH 28 ...\n",
      "Validation Accuracy = 0.894\n",
      "\n",
      "EPOCH 29 ...\n",
      "Validation Accuracy = 0.895\n",
      "\n",
      "EPOCH 30 ...\n",
      "Validation Accuracy = 0.891\n",
      "\n",
      "EPOCH 31 ...\n",
      "Validation Accuracy = 0.901\n",
      "\n",
      "EPOCH 32 ...\n",
      "Validation Accuracy = 0.900\n",
      "\n",
      "EPOCH 33 ...\n",
      "Validation Accuracy = 0.895\n",
      "\n",
      "EPOCH 34 ...\n",
      "Validation Accuracy = 0.897\n",
      "\n",
      "EPOCH 35 ...\n",
      "Validation Accuracy = 0.905\n",
      "\n",
      "EPOCH 36 ...\n",
      "Validation Accuracy = 0.903\n",
      "\n",
      "EPOCH 37 ...\n",
      "Validation Accuracy = 0.904\n",
      "\n",
      "EPOCH 38 ...\n",
      "Validation Accuracy = 0.906\n",
      "\n",
      "EPOCH 39 ...\n",
      "Validation Accuracy = 0.902\n",
      "\n",
      "EPOCH 40 ...\n",
      "Validation Accuracy = 0.900\n",
      "\n",
      "EPOCH 41 ...\n",
      "Validation Accuracy = 0.908\n",
      "\n",
      "EPOCH 42 ...\n",
      "Validation Accuracy = 0.907\n",
      "\n",
      "EPOCH 43 ...\n",
      "Validation Accuracy = 0.902\n",
      "\n",
      "EPOCH 44 ...\n",
      "Validation Accuracy = 0.906\n",
      "\n",
      "EPOCH 45 ...\n",
      "Validation Accuracy = 0.906\n",
      "\n",
      "EPOCH 46 ...\n",
      "Validation Accuracy = 0.910\n",
      "\n",
      "EPOCH 47 ...\n",
      "Validation Accuracy = 0.906\n",
      "\n",
      "EPOCH 48 ...\n",
      "Validation Accuracy = 0.916\n",
      "\n",
      "EPOCH 49 ...\n",
      "Validation Accuracy = 0.905\n",
      "\n",
      "EPOCH 50 ...\n",
      "Validation Accuracy = 0.916\n",
      "\n",
      "EPOCH 51 ...\n",
      "Validation Accuracy = 0.903\n",
      "\n",
      "EPOCH 52 ...\n",
      "Validation Accuracy = 0.908\n",
      "\n",
      "EPOCH 53 ...\n",
      "Validation Accuracy = 0.908\n",
      "\n",
      "EPOCH 54 ...\n",
      "Validation Accuracy = 0.910\n",
      "\n",
      "EPOCH 55 ...\n",
      "Validation Accuracy = 0.917\n",
      "\n",
      "EPOCH 56 ...\n",
      "Validation Accuracy = 0.912\n",
      "\n",
      "EPOCH 57 ...\n",
      "Validation Accuracy = 0.911\n",
      "\n",
      "EPOCH 58 ...\n",
      "Validation Accuracy = 0.914\n",
      "\n",
      "EPOCH 59 ...\n",
      "Validation Accuracy = 0.914\n",
      "\n",
      "EPOCH 60 ...\n",
      "Validation Accuracy = 0.916\n",
      "\n",
      "EPOCH 61 ...\n",
      "Validation Accuracy = 0.917\n",
      "\n",
      "EPOCH 62 ...\n",
      "Validation Accuracy = 0.917\n",
      "\n",
      "EPOCH 63 ...\n",
      "Validation Accuracy = 0.912\n",
      "\n",
      "EPOCH 64 ...\n",
      "Validation Accuracy = 0.917\n",
      "\n",
      "EPOCH 65 ...\n",
      "Validation Accuracy = 0.910\n",
      "\n",
      "EPOCH 66 ...\n",
      "Validation Accuracy = 0.915\n",
      "\n",
      "EPOCH 67 ...\n",
      "Validation Accuracy = 0.920\n",
      "\n",
      "EPOCH 68 ...\n",
      "Validation Accuracy = 0.917\n",
      "\n",
      "EPOCH 69 ...\n",
      "Validation Accuracy = 0.912\n",
      "\n",
      "EPOCH 70 ...\n",
      "Validation Accuracy = 0.915\n",
      "\n",
      "EPOCH 71 ...\n",
      "Validation Accuracy = 0.914\n",
      "\n",
      "EPOCH 72 ...\n",
      "Validation Accuracy = 0.916\n",
      "\n",
      "EPOCH 73 ...\n",
      "Validation Accuracy = 0.921\n",
      "\n",
      "EPOCH 74 ...\n",
      "Validation Accuracy = 0.920\n",
      "\n",
      "EPOCH 75 ...\n",
      "Validation Accuracy = 0.921\n",
      "\n",
      "EPOCH 76 ...\n",
      "Validation Accuracy = 0.919\n",
      "\n",
      "EPOCH 77 ...\n",
      "Validation Accuracy = 0.914\n",
      "\n",
      "EPOCH 78 ...\n",
      "Validation Accuracy = 0.923\n",
      "\n",
      "EPOCH 79 ...\n",
      "Validation Accuracy = 0.921\n",
      "\n",
      "EPOCH 80 ...\n",
      "Validation Accuracy = 0.926\n",
      "\n",
      "EPOCH 81 ...\n",
      "Validation Accuracy = 0.920\n",
      "\n",
      "EPOCH 82 ...\n",
      "Validation Accuracy = 0.917\n",
      "\n",
      "EPOCH 83 ...\n",
      "Validation Accuracy = 0.918\n",
      "\n",
      "EPOCH 84 ...\n",
      "Validation Accuracy = 0.925\n",
      "\n",
      "EPOCH 85 ...\n",
      "Validation Accuracy = 0.922\n",
      "\n",
      "EPOCH 86 ...\n",
      "Validation Accuracy = 0.921\n",
      "\n",
      "EPOCH 87 ...\n",
      "Validation Accuracy = 0.923\n",
      "\n",
      "EPOCH 88 ...\n",
      "Validation Accuracy = 0.924\n",
      "\n",
      "EPOCH 89 ...\n",
      "Validation Accuracy = 0.929\n",
      "\n",
      "EPOCH 90 ...\n",
      "Validation Accuracy = 0.928\n",
      "\n",
      "EPOCH 91 ...\n",
      "Validation Accuracy = 0.924\n",
      "\n",
      "EPOCH 92 ...\n",
      "Validation Accuracy = 0.920\n",
      "\n",
      "EPOCH 93 ...\n",
      "Validation Accuracy = 0.923\n",
      "\n",
      "EPOCH 94 ...\n",
      "Validation Accuracy = 0.924\n",
      "\n",
      "EPOCH 95 ...\n",
      "Validation Accuracy = 0.926\n",
      "\n",
      "EPOCH 96 ...\n",
      "Validation Accuracy = 0.931\n",
      "\n",
      "EPOCH 97 ...\n",
      "Validation Accuracy = 0.922\n",
      "\n",
      "EPOCH 98 ...\n",
      "Validation Accuracy = 0.922\n",
      "\n",
      "EPOCH 99 ...\n",
      "Validation Accuracy = 0.921\n",
      "\n",
      "EPOCH 100 ...\n",
      "Validation Accuracy = 0.922\n",
      "\n",
      "Model saved\n"
     ]
    }
   ],
   "source": [
    "# Train the Model\n",
    "# Run the training data through the training pipeline to train the model.\n",
    "# Before each epoch, shuffle the training set.\n",
    "# After each epoch, measure the loss and accuracy of the validation set.\n",
    "# Save the model after training.\n",
    "\n",
    "with tf.Session() as sess:\n",
    "    sess.run(tf.global_variables_initializer())\n",
    "    num_examples = len(X_train)\n",
    "    \n",
    "    print(\"Training...\")\n",
    "    print()\n",
    "    for i in range(EPOCHS):\n",
    "        X_train, y_train = shuffle(X_train, y_train)\n",
    "        \n",
    "        for ii,(XX,yy) in enumerate(get_batches(X_train,y_train)):\n",
    "            sess.run(training_operation, feed_dict = {x:XX, y:yy})\n",
    "\n",
    "#         for offset in range(0, num_examples, BATCH_SIZE):\n",
    "#             end = offset + BATCH_SIZE\n",
    "#             batch_x, batch_y = X_train[offset:end], y_train[offset:end]\n",
    "#             print (batch_x.shape)\n",
    "#             print (batch_y.shape)\n",
    "#             sess.run(training_operation, feed_dict={x: batch_x, y: batch_y})\n",
    "            \n",
    "        validation_accuracy = evaluate(X_valid, y_valid)\n",
    "        print(\"EPOCH {} ...\".format(i+1))\n",
    "        print(\"Validation Accuracy = {:.3f}\".format(validation_accuracy))\n",
    "        print()\n",
    "        \n",
    "    saver.save(sess, './lenet')\n",
    "    print(\"Model saved\")\n",
    "    "
   ]
  },
  {
   "cell_type": "code",
   "execution_count": 16,
   "metadata": {},
   "outputs": [
    {
     "name": "stdout",
     "output_type": "stream",
     "text": [
      "INFO:tensorflow:Restoring parameters from .\\lenet\n",
      "Test Accuracy = 0.901\n"
     ]
    }
   ],
   "source": [
    "# Evaluate the Model\n",
    "with tf.Session() as sess:\n",
    "    saver.restore(sess, tf.train.latest_checkpoint('.'))\n",
    "\n",
    "    test_accuracy = evaluate(X_test, y_test)\n",
    "    print(\"Test Accuracy = {:.3f}\".format(test_accuracy))"
   ]
  },
  {
   "cell_type": "markdown",
   "metadata": {},
   "source": [
    "---\n",
    "\n",
    "## Step 3: Test a Model on New Images\n",
    "\n",
    "To give yourself more insight into how your model is working, download at least five pictures of German traffic signs from the web and use your model to predict the traffic sign type.\n",
    "\n",
    "You may find `signnames.csv` useful as it contains mappings from the class id (integer) to the actual sign name."
   ]
  },
  {
   "cell_type": "markdown",
   "metadata": {},
   "source": [
    "### Load and Output the Images"
   ]
  },
  {
   "cell_type": "code",
   "execution_count": 17,
   "metadata": {},
   "outputs": [
    {
     "name": "stdout",
     "output_type": "stream",
     "text": [
      "{0: 'Speed limit (20km/h)', 1: 'Speed limit (30km/h)', 2: 'Speed limit (50km/h)', 3: 'Speed limit (60km/h)', 4: 'Speed limit (70km/h)', 5: 'Speed limit (80km/h)', 6: 'End of speed limit (80km/h)', 7: 'Speed limit (100km/h)', 8: 'Speed limit (120km/h)', 9: 'No passing', 10: 'No passing for vehicles over 3.5 metric tons', 11: 'Right-of-way at the next intersection', 12: 'Priority road', 13: 'Yield', 14: 'Stop', 15: 'No vehicles', 16: 'Vehicles over 3.5 metric tons prohibited', 17: 'No entry', 18: 'General caution', 19: 'Dangerous curve to the left', 20: 'Dangerous curve to the right', 21: 'Double curve', 22: 'Bumpy road', 23: 'Slippery road', 24: 'Road narrows on the right', 25: 'Road work', 26: 'Traffic signals', 27: 'Pedestrians', 28: 'Children crossing', 29: 'Bicycles crossing', 30: 'Beware of ice/snow', 31: 'Wild animals crossing', 32: 'End of all speed and passing limits', 33: 'Turn right ahead', 34: 'Turn left ahead', 35: 'Ahead only', 36: 'Go straight or right', 37: 'Go straight or left', 38: 'Keep right', 39: 'Keep left', 40: 'Roundabout mandatory', 41: 'End of no passing', 42: 'End of no passing by vehicles over 3.5 metric tons'}\n"
     ]
    }
   ],
   "source": [
    "# The actual name of the classes are given in separate file. Here we load the csv file which allows mapping from classes/labels to \n",
    "# file name\n",
    "import csv\n",
    "\n",
    "def read_csv_and_parse():\n",
    "    traffic_labels_dict ={}\n",
    "    with open('signnames.csv') as f:\n",
    "        reader = csv.reader(f)\n",
    "        count = -1;\n",
    "        for row in reader:\n",
    "            count = count + 1\n",
    "            if(count == 0):\n",
    "                continue\n",
    "            label_index = int(row[0])\n",
    "            traffic_labels_dict[label_index] = row[1]\n",
    "    return traffic_labels_dict\n",
    "\n",
    "traffic_labels_dict = read_csv_and_parse()\n",
    "print(traffic_labels_dict)"
   ]
  },
  {
   "cell_type": "code",
   "execution_count": 18,
   "metadata": {},
   "outputs": [],
   "source": [
    "import glob\n",
    "\n",
    "#load the image , resizes it to 32*32\n",
    "def get_image(url, show=False):\n",
    "    # download and show the image\n",
    "    img = cv2.imread(url)\n",
    "    img = cv2.cvtColor(img, cv2.COLOR_BGR2RGB)\n",
    "    if img is None:\n",
    "         return None\n",
    "    if show:\n",
    "         plt.imshow(img)\n",
    "         plt.axis('off')\n",
    "    img = cv2.resize(img, (32, 32))\n",
    "    \n",
    "    return img\n",
    "\n",
    "def import_test_images():\n",
    "    imges = []\n",
    "    for el in glob.glob('./images/*.png') + glob.glob('./images/*.jpg'):\n",
    "        print(el)\n",
    "        img = cv2.imread(el)\n",
    "        img = cv2.cvtColor(img, cv2.COLOR_BGR2RGB)\n",
    "        if img is None:\n",
    "             return None\n",
    "        img = cv2.resize(img, (32, 32))\n",
    "\n",
    "        imges.append(img)\n",
    "    \n",
    "    return imges\n",
    "\n",
    "def import_data():\n",
    "    images_wild = []\n",
    "    labels_wild = []\n",
    "    for line in open('images/maps.txt','r'):\n",
    "        fname, label = line.strip().split(' ')\n",
    "        label = int(label)\n",
    "        fname = 'images/' + fname\n",
    "        print(fname)\n",
    "        img = cv2.imread(fname)\n",
    "        img = cv2.cvtColor(img, cv2.COLOR_BGR2RGB)\n",
    "        img = cv2.resize(img, (32, 32))\n",
    "\n",
    "        images_wild.append(img)\n",
    "\n",
    "        one_hot = np.zeros(n_classes)\n",
    "        one_hot[label] = 1\n",
    "\n",
    "        labels_wild.append(one_hot)\n",
    "        \n",
    "    return images_wild,labels_wild\n",
    "\n"
   ]
  },
  {
   "cell_type": "code",
   "execution_count": 19,
   "metadata": {},
   "outputs": [
    {
     "data": {
      "text/plain": [
       "<matplotlib.image.AxesImage at 0x1dd175389a0>"
      ]
     },
     "execution_count": 19,
     "metadata": {},
     "output_type": "execute_result"
    },
    {
     "data": {
      "image/png": "[encoded data removed]",
      "text/plain": [
       "<Figure size 432x288 with 1 Axes>"
      ]
     },
     "metadata": {
      "needs_background": "light"
     },
     "output_type": "display_data"
    }
   ],
   "source": [
    "### Load the images and plot them here.\n",
    "### Feel free to use as many code cells as needed.\n",
    "import cv2\n",
    "import matplotlib.pyplot as plt\n",
    "\n",
    "img = get_image('images/1_Stop.jpg', False)\n",
    "\n",
    "plt.imshow(img)"
   ]
  },
  {
   "cell_type": "markdown",
   "metadata": {},
   "source": [
    "### Predict the Sign Type for Each Image"
   ]
  },
  {
   "cell_type": "code",
   "execution_count": 20,
   "metadata": {},
   "outputs": [
    {
     "name": "stdout",
     "output_type": "stream",
     "text": [
      "images/1_stop.jpg\n",
      "images/2_turn-left-ahead.jpg\n",
      "images/3_80-Km-limit.jpg\n",
      "images/4_children_crossing.jpg\n",
      "images/5_double_curve.png\n"
     ]
    }
   ],
   "source": [
    "### Run the predictions here and use the model to output the prediction for each image.\n",
    "### Make sure to pre-process the images with the same pre-processing pipeline used earlier.\n",
    "### Feel free to use as many code cells as needed.\n",
    "\n",
    "images_wild = list()\n",
    "labels_wild = list()\n",
    "\n",
    "# images_wild = import_test_images()\n",
    "# # print(imges)\n",
    "# imges_pre = preprocess(imges) \n",
    "\n",
    "images_wild, labels_wild = import_data()\n",
    "images_wild = preprocess(images_wild) \n"
   ]
  },
  {
   "cell_type": "markdown",
   "metadata": {},
   "source": [
    "### Analyze Performance"
   ]
  },
  {
   "cell_type": "code",
   "execution_count": 21,
   "metadata": {},
   "outputs": [
    {
     "name": "stdout",
     "output_type": "stream",
     "text": [
      "INFO:tensorflow:Restoring parameters from .\\lenet\n",
      "Test Accuracy = 0.200\n"
     ]
    }
   ],
   "source": [
    "### Calculate the accuracy for these 5 new images. \n",
    "### For example, if the model predicted 1 out of 5 signs correctly, it's 20% accurate on these new images.\n",
    "\n",
    "with tf.Session() as sess:\n",
    "    saver.restore(sess, tf.train.latest_checkpoint('.'))\n",
    "\n",
    "    test_accuracy = evaluate(images_wild, labels_wild)\n",
    "    print(\"Test Accuracy = {:.3f}\".format(test_accuracy))"
   ]
  },
  {
   "cell_type": "markdown",
   "metadata": {},
   "source": [
    "### Output Top 5 Softmax Probabilities For Each Image Found on the Web"
   ]
  },
  {
   "cell_type": "markdown",
   "metadata": {},
   "source": [
    "For each of the new images, print out the model's softmax probabilities to show the **certainty** of the model's predictions (limit the output to the top 5 probabilities for each image). [`tf.nn.top_k`](https://www.tensorflow.org/versions/r0.12/api_docs/python/nn.html#top_k) could prove helpful here. \n",
    "\n",
    "The example below demonstrates how tf.nn.top_k can be used to find the top k predictions for each image.\n",
    "\n",
    "`tf.nn.top_k` will return the values and indices (class ids) of the top k predictions. So if k=3, for each sign, it'll return the 3 largest probabilities (out of a possible 43) and the correspoding class ids.\n",
    "\n",
    "Take this numpy array as an example. The values in the array represent predictions. The array contains softmax probabilities for five candidate images with six possible classes. `tf.nn.top_k` is used to choose the three classes with the highest probability:\n",
    "\n",
    "```\n",
    "# (5, 6) array\n",
    "a = np.array([[ 0.24879643,  0.07032244,  0.12641572,  0.34763842,  0.07893497,\n",
    "         0.12789202],\n",
    "       [ 0.28086119,  0.27569815,  0.08594638,  0.0178669 ,  0.18063401,\n",
    "         0.15899337],\n",
    "       [ 0.26076848,  0.23664738,  0.08020603,  0.07001922,  0.1134371 ,\n",
    "         0.23892179],\n",
    "       [ 0.11943333,  0.29198961,  0.02605103,  0.26234032,  0.1351348 ,\n",
    "         0.16505091],\n",
    "       [ 0.09561176,  0.34396535,  0.0643941 ,  0.16240774,  0.24206137,\n",
    "         0.09155967]])\n",
    "```\n",
    "\n",
    "Running it through `sess.run(tf.nn.top_k(tf.constant(a), k=3))` produces:\n",
    "\n",
    "```\n",
    "TopKV2(values=array([[ 0.34763842,  0.24879643,  0.12789202],\n",
    "       [ 0.28086119,  0.27569815,  0.18063401],\n",
    "       [ 0.26076848,  0.23892179,  0.23664738],\n",
    "       [ 0.29198961,  0.26234032,  0.16505091],\n",
    "       [ 0.34396535,  0.24206137,  0.16240774]]), indices=array([[3, 0, 5],\n",
    "       [0, 1, 4],\n",
    "       [0, 5, 1],\n",
    "       [1, 3, 5],\n",
    "       [1, 4, 3]], dtype=int32))\n",
    "```\n",
    "\n",
    "Looking just at the first row we get `[ 0.34763842,  0.24879643,  0.12789202]`, you can confirm these are the 3 largest probabilities in `a`. You'll also notice `[3, 0, 5]` are the corresponding indices."
   ]
  },
  {
   "cell_type": "code",
   "execution_count": 26,
   "metadata": {},
   "outputs": [
    {
     "name": "stdout",
     "output_type": "stream",
     "text": [
      "INFO:tensorflow:Restoring parameters from .\\lenet\n",
      "Accuracy Model On Internet Images: 0.20000000298023224\n",
      "========================\n",
      " - 'Stop' with prob = 0.92 \n",
      " - 'Turn right ahead' with prob = 0.07 \n",
      " - 'No entry' with prob = 0.01 \n",
      " - 'Road work' with prob = 0.00 \n",
      " - 'Yield' with prob = 0.00 \n",
      "========================\n",
      " - 'Beware of ice/snow' with prob = 0.54 \n",
      " - 'End of no passing by vehicles over 3.5 metric tons' with prob = 0.22 \n",
      " - 'End of no passing' with prob = 0.15 \n",
      " - 'Speed limit (60km/h)' with prob = 0.03 \n",
      " - 'Right-of-way at the next intersection' with prob = 0.02 \n",
      "========================\n",
      " - 'Road work' with prob = 1.00 \n",
      " - 'Slippery road' with prob = 0.00 \n",
      " - 'Dangerous curve to the right' with prob = 0.00 \n",
      " - 'General caution' with prob = 0.00 \n",
      " - 'Keep right' with prob = 0.00 \n",
      "========================\n",
      " - 'Dangerous curve to the left' with prob = 0.88 \n",
      " - 'Speed limit (60km/h)' with prob = 0.09 \n",
      " - 'End of no passing' with prob = 0.02 \n",
      " - 'Slippery road' with prob = 0.00 \n",
      " - 'No passing' with prob = 0.00 \n",
      "========================\n",
      " - 'Ahead only' with prob = 0.50 \n",
      " - 'Road work' with prob = 0.50 \n",
      " - 'Bumpy road' with prob = 0.00 \n",
      " - 'Stop' with prob = 0.00 \n",
      " - 'Yield' with prob = 0.00 \n"
     ]
    }
   ],
   "source": [
    "### Print out the top five softmax probabilities for the predictions on the German traffic sign images found on the web. \n",
    "### Feel free to use as many code cells as needed.\n",
    "predicted_proba = []\n",
    "with tf.Session() as sess:\n",
    "    saver.restore(sess, tf.train.latest_checkpoint('.'))\n",
    "    \n",
    "    predicted_proba = np.vstack(predict(images_wild))\n",
    "\n",
    "    print('Accuracy Model On Internet Images: {}'.format(evaluate(images_wild, labels_wild)))   \n",
    "\n",
    "for true_label,row in zip(labels_wild,predicted_proba):\n",
    "    print('========================')\n",
    "    top5k = np.argsort(row)[::-1][:5]\n",
    "    top5p = np.sort(row)[::-1][:5]\n",
    "#     print('Top 5 Labels for image \\'{}\\':'.format(get_name_from_label(true_label)))\n",
    "    for k,p in zip(top5k,top5p):\n",
    "        print(' - \\'{}\\' with prob = {:.2f} '.format(get_name_from_label(k),p))"
   ]
  },
  {
   "cell_type": "markdown",
   "metadata": {},
   "source": [
    "### Project Writeup\n",
    "\n",
    "Once you have completed the code implementation, document your results in a project writeup using this [template](https://github.com/udacity/CarND-Traffic-Sign-Classifier-Project/blob/master/writeup_template.md) as a guide. The writeup can be in a markdown or pdf file. "
   ]
  },
  {
   "cell_type": "markdown",
   "metadata": {},
   "source": [
    "> **Note**: Once you have completed all of the code implementations and successfully answered each question above, you may finalize your work by exporting the iPython Notebook as an HTML document. You can do this by using the menu above and navigating to  \\n\",\n",
    "    \"**File -> Download as -> HTML (.html)**. Include the finished document along with this notebook as your submission."
   ]
  },
  {
   "cell_type": "markdown",
   "metadata": {},
   "source": [
    "---\n",
    "\n",
    "## Step 4 (Optional): Visualize the Neural Network's State with Test Images\n",
    "\n",
    " This Section is not required to complete but acts as an additional excersise for understaning the output of a neural network's weights. While neural networks can be a great learning device they are often referred to as a black box. We can understand what the weights of a neural network look like better by plotting their feature maps. After successfully training your neural network you can see what it's feature maps look like by plotting the output of the network's weight layers in response to a test stimuli image. From these plotted feature maps, it's possible to see what characteristics of an image the network finds interesting. For a sign, maybe the inner network feature maps react with high activation to the sign's boundary outline or to the contrast in the sign's painted symbol.\n",
    "\n",
    " Provided for you below is the function code that allows you to get the visualization output of any tensorflow weight layer you want. The inputs to the function should be a stimuli image, one used during training or a new one you provided, and then the tensorflow variable name that represents the layer's state during the training process, for instance if you wanted to see what the [LeNet lab's](https://classroom.udacity.com/nanodegrees/nd013/parts/fbf77062-5703-404e-b60c-95b78b2f3f9e/modules/6df7ae49-c61c-4bb2-a23e-6527e69209ec/lessons/601ae704-1035-4287-8b11-e2c2716217ad/concepts/d4aca031-508f-4e0b-b493-e7b706120f81) feature maps looked like for it's second convolutional layer you could enter conv2 as the tf_activation variable.\n",
    "\n",
    "For an example of what feature map outputs look like, check out NVIDIA's results in their paper [End-to-End Deep Learning for Self-Driving Cars](https://devblogs.nvidia.com/parallelforall/deep-learning-self-driving-cars/) in the section Visualization of internal CNN State. NVIDIA was able to show that their network's inner weights had high activations to road boundary lines by comparing feature maps from an image with a clear path to one without. Try experimenting with a similar test to show that your trained network's weights are looking for interesting features, whether it's looking at differences in feature maps from images with or without a sign, or even what feature maps look like in a trained network vs a completely untrained one on the same sign image.\n",
    "\n",
    "<figure>\n",
    " <img src=\"visualize_cnn.png\" width=\"380\" alt=\"Combined Image\" />\n",
    " <figcaption>\n",
    " <p></p> \n",
    " <p style=\"text-align: center;\"> Your output should look something like this (above)</p> \n",
    " </figcaption>\n",
    "</figure>\n",
    " <p></p> \n"
   ]
  },
  {
   "cell_type": "code",
   "execution_count": null,
   "metadata": {
    "collapsed": true
   },
   "outputs": [],
   "source": [
    "### Visualize your network's feature maps here.\n",
    "### Feel free to use as many code cells as needed.\n",
    "\n",
    "# image_input: the test image being fed into the network to produce the feature maps\n",
    "# tf_activation: should be a tf variable name used during your training procedure that represents the calculated state of a specific weight layer\n",
    "# activation_min/max: can be used to view the activation contrast in more detail, by default matplot sets min and max to the actual min and max values of the output\n",
    "# plt_num: used to plot out multiple different weight feature map sets on the same block, just extend the plt number for each new feature map entry\n",
    "\n",
    "def outputFeatureMap(image_input, tf_activation, activation_min=-1, activation_max=-1 ,plt_num=1):\n",
    "    # Here make sure to preprocess your image_input in a way your network expects\n",
    "    # with size, normalization, ect if needed\n",
    "    # image_input =\n",
    "    # Note: x should be the same name as your network's tensorflow data placeholder variable\n",
    "    # If you get an error tf_activation is not defined it may be having trouble accessing the variable from inside a function\n",
    "    activation = tf_activation.eval(session=sess,feed_dict={x : image_input})\n",
    "    featuremaps = activation.shape[3]\n",
    "    plt.figure(plt_num, figsize=(15,15))\n",
    "    for featuremap in range(featuremaps):\n",
    "        plt.subplot(6,8, featuremap+1) # sets the number of feature maps to show on each row and column\n",
    "        plt.title('FeatureMap ' + str(featuremap)) # displays the feature map number\n",
    "        if activation_min != -1 & activation_max != -1:\n",
    "            plt.imshow(activation[0,:,:, featuremap], interpolation=\"nearest\", vmin =activation_min, vmax=activation_max, cmap=\"gray\")\n",
    "        elif activation_max != -1:\n",
    "            plt.imshow(activation[0,:,:, featuremap], interpolation=\"nearest\", vmax=activation_max, cmap=\"gray\")\n",
    "        elif activation_min !=-1:\n",
    "            plt.imshow(activation[0,:,:, featuremap], interpolation=\"nearest\", vmin=activation_min, cmap=\"gray\")\n",
    "        else:\n",
    "            plt.imshow(activation[0,:,:, featuremap], interpolation=\"nearest\", cmap=\"gray\")"
   ]
  }
 ],
 "metadata": {
  "anaconda-cloud": {},
  "kernelspec": {
   "display_name": "Python 3",
   "language": "python",
   "name": "python3"
  },
  "language_info": {
   "codemirror_mode": {
    "name": "ipython",
    "version": 3
   },
   "file_extension": ".py",
   "mimetype": "text/x-python",
   "name": "python",
   "nbconvert_exporter": "python",
   "pygments_lexer": "ipython3",
   "version": "3.8.8"
  }
 },
 "nbformat": 4,
 "nbformat_minor": 1
}
